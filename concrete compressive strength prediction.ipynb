{
 "cells": [
  {
   "cell_type": "markdown",
   "metadata": {},
   "source": [
    "# Building a regression model to predict concrete compressive strength using the deep learning Keras library"
   ]
  },
  {
   "cell_type": "markdown",
   "metadata": {},
   "source": [
    "Dear marker, to avoid multiple files that will confuse me, I added all parts in this notebook as different sections"
   ]
  },
  {
   "cell_type": "markdown",
   "metadata": {},
   "source": [
    "Import necessary libraries"
   ]
  },
  {
   "cell_type": "code",
   "execution_count": 27,
   "metadata": {},
   "outputs": [],
   "source": [
    "import pandas as pd\n",
    "import numpy as np\n",
    "import keras\n",
    "from keras.models import Sequential\n",
    "from keras.layers import Dense\n",
    "from sklearn.metrics import mean_squared_error\n",
    "from sklearn.model_selection import train_test_split"
   ]
  },
  {
   "cell_type": "code",
   "execution_count": 28,
   "metadata": {},
   "outputs": [],
   "source": [
    "# Surpress warnings:\n",
    "def warn(*args, **kwargs):\n",
    "    pass\n",
    "import warnings\n",
    "warnings.warn = warn"
   ]
  },
  {
   "cell_type": "markdown",
   "metadata": {},
   "source": [
    "Download the required data"
   ]
  },
  {
   "cell_type": "code",
   "execution_count": 29,
   "metadata": {},
   "outputs": [
    {
     "data": {
      "text/html": [
       "<div>\n",
       "<style scoped>\n",
       "    .dataframe tbody tr th:only-of-type {\n",
       "        vertical-align: middle;\n",
       "    }\n",
       "\n",
       "    .dataframe tbody tr th {\n",
       "        vertical-align: top;\n",
       "    }\n",
       "\n",
       "    .dataframe thead th {\n",
       "        text-align: right;\n",
       "    }\n",
       "</style>\n",
       "<table border=\"1\" class=\"dataframe\">\n",
       "  <thead>\n",
       "    <tr style=\"text-align: right;\">\n",
       "      <th></th>\n",
       "      <th>Cement</th>\n",
       "      <th>Blast Furnace Slag</th>\n",
       "      <th>Fly Ash</th>\n",
       "      <th>Water</th>\n",
       "      <th>Superplasticizer</th>\n",
       "      <th>Coarse Aggregate</th>\n",
       "      <th>Fine Aggregate</th>\n",
       "      <th>Age</th>\n",
       "      <th>Strength</th>\n",
       "    </tr>\n",
       "  </thead>\n",
       "  <tbody>\n",
       "    <tr>\n",
       "      <th>0</th>\n",
       "      <td>540.0</td>\n",
       "      <td>0.0</td>\n",
       "      <td>0.0</td>\n",
       "      <td>162.0</td>\n",
       "      <td>2.5</td>\n",
       "      <td>1040.0</td>\n",
       "      <td>676.0</td>\n",
       "      <td>28</td>\n",
       "      <td>79.99</td>\n",
       "    </tr>\n",
       "    <tr>\n",
       "      <th>1</th>\n",
       "      <td>540.0</td>\n",
       "      <td>0.0</td>\n",
       "      <td>0.0</td>\n",
       "      <td>162.0</td>\n",
       "      <td>2.5</td>\n",
       "      <td>1055.0</td>\n",
       "      <td>676.0</td>\n",
       "      <td>28</td>\n",
       "      <td>61.89</td>\n",
       "    </tr>\n",
       "    <tr>\n",
       "      <th>2</th>\n",
       "      <td>332.5</td>\n",
       "      <td>142.5</td>\n",
       "      <td>0.0</td>\n",
       "      <td>228.0</td>\n",
       "      <td>0.0</td>\n",
       "      <td>932.0</td>\n",
       "      <td>594.0</td>\n",
       "      <td>270</td>\n",
       "      <td>40.27</td>\n",
       "    </tr>\n",
       "    <tr>\n",
       "      <th>3</th>\n",
       "      <td>332.5</td>\n",
       "      <td>142.5</td>\n",
       "      <td>0.0</td>\n",
       "      <td>228.0</td>\n",
       "      <td>0.0</td>\n",
       "      <td>932.0</td>\n",
       "      <td>594.0</td>\n",
       "      <td>365</td>\n",
       "      <td>41.05</td>\n",
       "    </tr>\n",
       "    <tr>\n",
       "      <th>4</th>\n",
       "      <td>198.6</td>\n",
       "      <td>132.4</td>\n",
       "      <td>0.0</td>\n",
       "      <td>192.0</td>\n",
       "      <td>0.0</td>\n",
       "      <td>978.4</td>\n",
       "      <td>825.5</td>\n",
       "      <td>360</td>\n",
       "      <td>44.30</td>\n",
       "    </tr>\n",
       "    <tr>\n",
       "      <th>5</th>\n",
       "      <td>266.0</td>\n",
       "      <td>114.0</td>\n",
       "      <td>0.0</td>\n",
       "      <td>228.0</td>\n",
       "      <td>0.0</td>\n",
       "      <td>932.0</td>\n",
       "      <td>670.0</td>\n",
       "      <td>90</td>\n",
       "      <td>47.03</td>\n",
       "    </tr>\n",
       "    <tr>\n",
       "      <th>6</th>\n",
       "      <td>380.0</td>\n",
       "      <td>95.0</td>\n",
       "      <td>0.0</td>\n",
       "      <td>228.0</td>\n",
       "      <td>0.0</td>\n",
       "      <td>932.0</td>\n",
       "      <td>594.0</td>\n",
       "      <td>365</td>\n",
       "      <td>43.70</td>\n",
       "    </tr>\n",
       "  </tbody>\n",
       "</table>\n",
       "</div>"
      ],
      "text/plain": [
       "   Cement  Blast Furnace Slag  Fly Ash  Water  Superplasticizer  \\\n",
       "0   540.0                 0.0      0.0  162.0               2.5   \n",
       "1   540.0                 0.0      0.0  162.0               2.5   \n",
       "2   332.5               142.5      0.0  228.0               0.0   \n",
       "3   332.5               142.5      0.0  228.0               0.0   \n",
       "4   198.6               132.4      0.0  192.0               0.0   \n",
       "5   266.0               114.0      0.0  228.0               0.0   \n",
       "6   380.0                95.0      0.0  228.0               0.0   \n",
       "\n",
       "   Coarse Aggregate  Fine Aggregate  Age  Strength  \n",
       "0            1040.0           676.0   28     79.99  \n",
       "1            1055.0           676.0   28     61.89  \n",
       "2             932.0           594.0  270     40.27  \n",
       "3             932.0           594.0  365     41.05  \n",
       "4             978.4           825.5  360     44.30  \n",
       "5             932.0           670.0   90     47.03  \n",
       "6             932.0           594.0  365     43.70  "
      ]
     },
     "execution_count": 29,
     "metadata": {},
     "output_type": "execute_result"
    }
   ],
   "source": [
    "concrete_data = pd.read_csv('https://s3-api.us-geo.objectstorage.softlayer.net/cf-courses-data/CognitiveClass/DL0101EN/labs/data/concrete_data.csv')\n",
    "concrete_data.head(7) #Display first 7 rows"
   ]
  },
  {
   "cell_type": "markdown",
   "metadata": {},
   "source": [
    "Separate predictors from the target variable"
   ]
  },
  {
   "cell_type": "code",
   "execution_count": 30,
   "metadata": {},
   "outputs": [],
   "source": [
    "concrete_data_columns = concrete_data.columns\n",
    "\n",
    "predictors = concrete_data[concrete_data_columns[concrete_data_columns != 'Strength']] # all columns except Strength\n",
    "target = concrete_data['Strength'] # Strength column"
   ]
  },
  {
   "cell_type": "markdown",
   "metadata": {},
   "source": [
    "Find the number of predictors"
   ]
  },
  {
   "cell_type": "code",
   "execution_count": 31,
   "metadata": {},
   "outputs": [],
   "source": [
    "n_cols = predictors.shape[1] # number of predictors"
   ]
  },
  {
   "cell_type": "markdown",
   "metadata": {},
   "source": [
    "Define the model"
   ]
  },
  {
   "cell_type": "code",
   "execution_count": 37,
   "metadata": {},
   "outputs": [],
   "source": [
    "# define regression model\n",
    "def regression_model(l1_nodes, l2_nodes, l3_nodes):\n",
    "    # create model\n",
    "    model = Sequential()\n",
    "    model.add(Dense(l1_nodes, activation='relu', input_shape=(n_cols,)))\n",
    "    if (l2_nodes != 0):\n",
    "        model.add(Dense(l2_nodes, activation='relu'))\n",
    "        model.add(Dense(l3_nodes, activation='relu'))\n",
    "    model.add(Dense(1))\n",
    "    \n",
    "    # compile model\n",
    "    model.compile(optimizer='adam', loss='mean_squared_error')\n",
    "    return model"
   ]
  },
  {
   "cell_type": "markdown",
   "metadata": {},
   "source": [
    "## Part A"
   ]
  },
  {
   "cell_type": "markdown",
   "metadata": {},
   "source": [
    "1.  Split the data randomly into a training and test sets by holding 30% of the data for testing"
   ]
  },
  {
   "cell_type": "code",
   "execution_count": 38,
   "metadata": {},
   "outputs": [],
   "source": [
    "X_train, X_test, y_train, y_test = train_test_split(predictors, target, test_size=0.3, random_state=42)"
   ]
  },
  {
   "cell_type": "markdown",
   "metadata": {},
   "source": [
    "2. Train the model on the training data using 50 epochs."
   ]
  },
  {
   "cell_type": "code",
   "execution_count": 39,
   "metadata": {},
   "outputs": [
    {
     "name": "stdout",
     "output_type": "stream",
     "text": [
      "Epoch 1/50\n",
      "23/23 - 0s - 21ms/step - loss: 15814.7266\n",
      "Epoch 2/50\n",
      "23/23 - 0s - 1ms/step - loss: 5385.5356\n",
      "Epoch 3/50\n",
      "23/23 - 0s - 1ms/step - loss: 4541.5190\n",
      "Epoch 4/50\n",
      "23/23 - 0s - 1ms/step - loss: 4080.8347\n",
      "Epoch 5/50\n",
      "23/23 - 0s - 1ms/step - loss: 3692.1929\n",
      "Epoch 6/50\n",
      "23/23 - 0s - 2ms/step - loss: 3304.2271\n",
      "Epoch 7/50\n",
      "23/23 - 0s - 2ms/step - loss: 2913.0217\n",
      "Epoch 8/50\n",
      "23/23 - 0s - 2ms/step - loss: 2514.1033\n",
      "Epoch 9/50\n",
      "23/23 - 0s - 2ms/step - loss: 2109.2061\n",
      "Epoch 10/50\n",
      "23/23 - 0s - 1ms/step - loss: 1734.1951\n",
      "Epoch 11/50\n",
      "23/23 - 0s - 2ms/step - loss: 1420.1852\n",
      "Epoch 12/50\n",
      "23/23 - 0s - 2ms/step - loss: 1161.6152\n",
      "Epoch 13/50\n",
      "23/23 - 0s - 2ms/step - loss: 938.1101\n",
      "Epoch 14/50\n",
      "23/23 - 0s - 2ms/step - loss: 758.8001\n",
      "Epoch 15/50\n",
      "23/23 - 0s - 1ms/step - loss: 614.2689\n",
      "Epoch 16/50\n",
      "23/23 - 0s - 2ms/step - loss: 496.4046\n",
      "Epoch 17/50\n",
      "23/23 - 0s - 2ms/step - loss: 408.9870\n",
      "Epoch 18/50\n",
      "23/23 - 0s - 2ms/step - loss: 347.1777\n",
      "Epoch 19/50\n",
      "23/23 - 0s - 1ms/step - loss: 302.3809\n",
      "Epoch 20/50\n",
      "23/23 - 0s - 2ms/step - loss: 266.8530\n",
      "Epoch 21/50\n",
      "23/23 - 0s - 2ms/step - loss: 240.3402\n",
      "Epoch 22/50\n",
      "23/23 - 0s - 2ms/step - loss: 218.4536\n",
      "Epoch 23/50\n",
      "23/23 - 0s - 1ms/step - loss: 204.0231\n",
      "Epoch 24/50\n",
      "23/23 - 0s - 2ms/step - loss: 190.5233\n",
      "Epoch 25/50\n",
      "23/23 - 0s - 1ms/step - loss: 181.3252\n",
      "Epoch 26/50\n",
      "23/23 - 0s - 2ms/step - loss: 172.5202\n",
      "Epoch 27/50\n",
      "23/23 - 0s - 1ms/step - loss: 167.9439\n",
      "Epoch 28/50\n",
      "23/23 - 0s - 2ms/step - loss: 162.4237\n",
      "Epoch 29/50\n",
      "23/23 - 0s - 2ms/step - loss: 157.9503\n",
      "Epoch 30/50\n",
      "23/23 - 0s - 2ms/step - loss: 154.4540\n",
      "Epoch 31/50\n",
      "23/23 - 0s - 2ms/step - loss: 150.9098\n",
      "Epoch 32/50\n",
      "23/23 - 0s - 2ms/step - loss: 147.7100\n",
      "Epoch 33/50\n",
      "23/23 - 0s - 1ms/step - loss: 145.8578\n",
      "Epoch 34/50\n",
      "23/23 - 0s - 2ms/step - loss: 143.3183\n",
      "Epoch 35/50\n",
      "23/23 - 0s - 2ms/step - loss: 141.8132\n",
      "Epoch 36/50\n",
      "23/23 - 0s - 1ms/step - loss: 139.9066\n",
      "Epoch 37/50\n",
      "23/23 - 0s - 1ms/step - loss: 137.1078\n",
      "Epoch 38/50\n",
      "23/23 - 0s - 2ms/step - loss: 137.3802\n",
      "Epoch 39/50\n",
      "23/23 - 0s - 1ms/step - loss: 136.0197\n",
      "Epoch 40/50\n",
      "23/23 - 0s - 1ms/step - loss: 132.1882\n",
      "Epoch 41/50\n",
      "23/23 - 0s - 1ms/step - loss: 130.2415\n",
      "Epoch 42/50\n",
      "23/23 - 0s - 1ms/step - loss: 129.7760\n",
      "Epoch 43/50\n",
      "23/23 - 0s - 1ms/step - loss: 129.0234\n",
      "Epoch 44/50\n",
      "23/23 - 0s - 1ms/step - loss: 127.7540\n",
      "Epoch 45/50\n",
      "23/23 - 0s - 1ms/step - loss: 125.8321\n",
      "Epoch 46/50\n",
      "23/23 - 0s - 1ms/step - loss: 125.8584\n",
      "Epoch 47/50\n",
      "23/23 - 0s - 1ms/step - loss: 125.2958\n",
      "Epoch 48/50\n",
      "23/23 - 0s - 1ms/step - loss: 124.6713\n",
      "Epoch 49/50\n",
      "23/23 - 0s - 1ms/step - loss: 126.1565\n",
      "Epoch 50/50\n",
      "23/23 - 0s - 1ms/step - loss: 122.2648\n"
     ]
    },
    {
     "data": {
      "text/plain": [
       "<keras.src.callbacks.history.History at 0x1fe96bdc410>"
      ]
     },
     "execution_count": 39,
     "metadata": {},
     "output_type": "execute_result"
    }
   ],
   "source": [
    "# build the model\n",
    "model = regression_model(10, 0, 0)\n",
    "# fit the model\n",
    "model.fit(X_train, y_train, epochs=50, verbose=2)"
   ]
  },
  {
   "cell_type": "markdown",
   "metadata": {},
   "source": [
    "3. Evaluate the model on the test data and compute the mean squared error between the predicted concrete strength and the actual concrete strength."
   ]
  },
  {
   "cell_type": "code",
   "execution_count": 40,
   "metadata": {},
   "outputs": [
    {
     "name": "stdout",
     "output_type": "stream",
     "text": [
      "\u001b[1m10/10\u001b[0m \u001b[32m━━━━━━━━━━━━━━━━━━━━\u001b[0m\u001b[37m\u001b[0m \u001b[1m0s\u001b[0m 2ms/step \n",
      "Mean squared error on testing data  122.72826843268167\n"
     ]
    }
   ],
   "source": [
    "y_pred = model.predict(X_test)\n",
    "print(\"Mean squared error on testing data \",mean_squared_error(y_pred,y_test))"
   ]
  },
  {
   "cell_type": "markdown",
   "metadata": {},
   "source": [
    "4. Repeat steps 1 - 3, 50 times, i.e., create a list of 50 mean squared errors."
   ]
  },
  {
   "cell_type": "code",
   "execution_count": 41,
   "metadata": {},
   "outputs": [
    {
     "name": "stdout",
     "output_type": "stream",
     "text": [
      "Mean: 57.68910608170367\n",
      "Standard Deviation: 17.123422299524123\n"
     ]
    }
   ],
   "source": [
    "errors_array = np.empty(50) #initialize an empty numpy array\n",
    "for i in range(50):\n",
    "    X_train, X_test, y_train, y_test = train_test_split(predictors, target, test_size=0.3, random_state=42)\n",
    "    # fit the model\n",
    "    model.fit(X_train, y_train, epochs=50, verbose=0)\n",
    "    y_pred = model.predict(X_test , verbose=0)\n",
    "    errors_array[i] = mean_squared_error(y_pred,y_test)\n",
    "\n",
    "# Calculate mean and standard deviation\n",
    "mean_error = np.mean(errors_array)\n",
    "std_dev_error = np.std(errors_array)\n",
    "\n",
    "print(\"Mean:\", mean_error)\n",
    "print(\"Standard Deviation:\", std_dev_error)"
   ]
  },
  {
   "cell_type": "markdown",
   "metadata": {},
   "source": [
    "## Part B"
   ]
  },
  {
   "cell_type": "markdown",
   "metadata": {},
   "source": [
    "Normalize the data"
   ]
  },
  {
   "cell_type": "code",
   "execution_count": 42,
   "metadata": {},
   "outputs": [
    {
     "data": {
      "text/html": [
       "<div>\n",
       "<style scoped>\n",
       "    .dataframe tbody tr th:only-of-type {\n",
       "        vertical-align: middle;\n",
       "    }\n",
       "\n",
       "    .dataframe tbody tr th {\n",
       "        vertical-align: top;\n",
       "    }\n",
       "\n",
       "    .dataframe thead th {\n",
       "        text-align: right;\n",
       "    }\n",
       "</style>\n",
       "<table border=\"1\" class=\"dataframe\">\n",
       "  <thead>\n",
       "    <tr style=\"text-align: right;\">\n",
       "      <th></th>\n",
       "      <th>Cement</th>\n",
       "      <th>Blast Furnace Slag</th>\n",
       "      <th>Fly Ash</th>\n",
       "      <th>Water</th>\n",
       "      <th>Superplasticizer</th>\n",
       "      <th>Coarse Aggregate</th>\n",
       "      <th>Fine Aggregate</th>\n",
       "      <th>Age</th>\n",
       "    </tr>\n",
       "  </thead>\n",
       "  <tbody>\n",
       "    <tr>\n",
       "      <th>0</th>\n",
       "      <td>2.476712</td>\n",
       "      <td>-0.856472</td>\n",
       "      <td>-0.846733</td>\n",
       "      <td>-0.916319</td>\n",
       "      <td>-0.620147</td>\n",
       "      <td>0.862735</td>\n",
       "      <td>-1.217079</td>\n",
       "      <td>-0.279597</td>\n",
       "    </tr>\n",
       "    <tr>\n",
       "      <th>1</th>\n",
       "      <td>2.476712</td>\n",
       "      <td>-0.856472</td>\n",
       "      <td>-0.846733</td>\n",
       "      <td>-0.916319</td>\n",
       "      <td>-0.620147</td>\n",
       "      <td>1.055651</td>\n",
       "      <td>-1.217079</td>\n",
       "      <td>-0.279597</td>\n",
       "    </tr>\n",
       "    <tr>\n",
       "      <th>2</th>\n",
       "      <td>0.491187</td>\n",
       "      <td>0.795140</td>\n",
       "      <td>-0.846733</td>\n",
       "      <td>2.174405</td>\n",
       "      <td>-1.038638</td>\n",
       "      <td>-0.526262</td>\n",
       "      <td>-2.239829</td>\n",
       "      <td>3.551340</td>\n",
       "    </tr>\n",
       "    <tr>\n",
       "      <th>3</th>\n",
       "      <td>0.491187</td>\n",
       "      <td>0.795140</td>\n",
       "      <td>-0.846733</td>\n",
       "      <td>2.174405</td>\n",
       "      <td>-1.038638</td>\n",
       "      <td>-0.526262</td>\n",
       "      <td>-2.239829</td>\n",
       "      <td>5.055221</td>\n",
       "    </tr>\n",
       "    <tr>\n",
       "      <th>4</th>\n",
       "      <td>-0.790075</td>\n",
       "      <td>0.678079</td>\n",
       "      <td>-0.846733</td>\n",
       "      <td>0.488555</td>\n",
       "      <td>-1.038638</td>\n",
       "      <td>0.070492</td>\n",
       "      <td>0.647569</td>\n",
       "      <td>4.976069</td>\n",
       "    </tr>\n",
       "  </tbody>\n",
       "</table>\n",
       "</div>"
      ],
      "text/plain": [
       "     Cement  Blast Furnace Slag   Fly Ash     Water  Superplasticizer  \\\n",
       "0  2.476712           -0.856472 -0.846733 -0.916319         -0.620147   \n",
       "1  2.476712           -0.856472 -0.846733 -0.916319         -0.620147   \n",
       "2  0.491187            0.795140 -0.846733  2.174405         -1.038638   \n",
       "3  0.491187            0.795140 -0.846733  2.174405         -1.038638   \n",
       "4 -0.790075            0.678079 -0.846733  0.488555         -1.038638   \n",
       "\n",
       "   Coarse Aggregate  Fine Aggregate       Age  \n",
       "0          0.862735       -1.217079 -0.279597  \n",
       "1          1.055651       -1.217079 -0.279597  \n",
       "2         -0.526262       -2.239829  3.551340  \n",
       "3         -0.526262       -2.239829  5.055221  \n",
       "4          0.070492        0.647569  4.976069  "
      ]
     },
     "execution_count": 42,
     "metadata": {},
     "output_type": "execute_result"
    }
   ],
   "source": [
    "predictors_norm = (predictors - predictors.mean()) / predictors.std()\n",
    "predictors_norm.head()"
   ]
  },
  {
   "cell_type": "code",
   "execution_count": 43,
   "metadata": {},
   "outputs": [
    {
     "name": "stdout",
     "output_type": "stream",
     "text": [
      "Mean: 50.8585854036487\n",
      "Standard Deviation: 27.622411866636092\n"
     ]
    }
   ],
   "source": [
    "errors_array = np.empty(50) #initialize an empty numpy array\n",
    "for i in range(50):\n",
    "    X_train, X_test, y_train, y_test = train_test_split(predictors_norm, target, test_size=0.3, random_state=42)\n",
    "    # fit the model\n",
    "    model.fit(X_train, y_train, epochs=50, verbose=0)\n",
    "    y_pred = model.predict(X_test , verbose=0)\n",
    "    errors_array[i] = mean_squared_error(y_pred,y_test)\n",
    "\n",
    "# Calculate mean and standard deviation\n",
    "mean_error = np.mean(errors_array)\n",
    "std_dev_error = np.std(errors_array)\n",
    "\n",
    "print(\"Mean:\", mean_error)\n",
    "print(\"Standard Deviation:\", std_dev_error)"
   ]
  },
  {
   "cell_type": "markdown",
   "metadata": {},
   "source": [
    "Normalizing the data caused the mean squared error to be 7 units better, from 57 to 50! "
   ]
  },
  {
   "cell_type": "markdown",
   "metadata": {},
   "source": [
    "## Part C"
   ]
  },
  {
   "cell_type": "code",
   "execution_count": 44,
   "metadata": {},
   "outputs": [
    {
     "name": "stdout",
     "output_type": "stream",
     "text": [
      "Mean: 35.305139046553535\n",
      "Standard Deviation: 1.8025717256105018\n"
     ]
    }
   ],
   "source": [
    "errors_array = np.empty(50) #initialize an empty numpy array\n",
    "for i in range(50):\n",
    "    X_train, X_test, y_train, y_test = train_test_split(predictors_norm, target, test_size=0.3, random_state=42)\n",
    "    # fit the model\n",
    "    model.fit(X_train, y_train, epochs=100, verbose=0)\n",
    "    y_pred = model.predict(X_test , verbose=0)\n",
    "    errors_array[i] = mean_squared_error(y_pred,y_test)\n",
    "\n",
    "# Calculate mean and standard deviation\n",
    "mean_error = np.mean(errors_array)\n",
    "std_dev_error = np.std(errors_array)\n",
    "\n",
    "print(\"Mean:\", mean_error)\n",
    "print(\"Standard Deviation:\", std_dev_error)"
   ]
  },
  {
   "cell_type": "markdown",
   "metadata": {},
   "source": [
    "Doubling the number of training epochs from 50 to 100 decreased the mean squared error by 15"
   ]
  },
  {
   "cell_type": "markdown",
   "metadata": {},
   "source": [
    "## Part D"
   ]
  },
  {
   "cell_type": "code",
   "execution_count": 45,
   "metadata": {},
   "outputs": [
    {
     "name": "stdout",
     "output_type": "stream",
     "text": [
      "Mean: 39.92575186219664\n",
      "Standard Deviation: 13.869651446943413\n"
     ]
    }
   ],
   "source": [
    "# build the model\n",
    "model = regression_model(10, 10, 10)\n",
    "\n",
    "errors_array = np.empty(50) #initialize an empty numpy array\n",
    "for i in range(50):\n",
    "    X_train, X_test, y_train, y_test = train_test_split(predictors_norm, target, test_size=0.3, random_state=42)\n",
    "    # fit the model\n",
    "    model.fit(X_train, y_train, epochs=50, verbose=0)\n",
    "    y_pred = model.predict(X_test , verbose=0)\n",
    "    errors_array[i] = mean_squared_error(y_pred,y_test)\n",
    "\n",
    "# Calculate mean and standard deviation\n",
    "mean_error = np.mean(errors_array)\n",
    "std_dev_error = np.std(errors_array)\n",
    "\n",
    "print(\"Mean:\", mean_error)\n",
    "print(\"Standard Deviation:\", std_dev_error)"
   ]
  },
  {
   "cell_type": "markdown",
   "metadata": {},
   "source": [
    "Adding 2 more hidden layers decreased the maen squared error by 11."
   ]
  }
 ],
 "metadata": {
  "kernelspec": {
   "display_name": "Python 3",
   "language": "python",
   "name": "python3"
  },
  "language_info": {
   "codemirror_mode": {
    "name": "ipython",
    "version": 3
   },
   "file_extension": ".py",
   "mimetype": "text/x-python",
   "name": "python",
   "nbconvert_exporter": "python",
   "pygments_lexer": "ipython3",
   "version": "3.11.0"
  }
 },
 "nbformat": 4,
 "nbformat_minor": 2
}
